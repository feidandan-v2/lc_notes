{
 "cells": [
  {
   "cell_type": "markdown",
   "metadata": {},
   "source": [
    "**递归三部曲**\n",
    "\n",
    "1. 确定递归函数的参数和返回值\n",
    "2. 确定终止条件\n",
    "3. 确定单层递归的逻辑"
   ]
  },
  {
   "cell_type": "code",
   "execution_count": null,
   "metadata": {},
   "outputs": [],
   "source": [
    "# leecode #144 #145 #94 前中后序遍历二叉树\n",
    "\n",
    "class TreeNode(object):\n",
    "    def __init__(self, val=0, left=None, right=None) -> None:\n",
    "        self.val = val\n",
    "        self.left = left\n",
    "        self.right = right\n",
    "\n",
    "\n",
    "class Solution:\n",
    "    \"\"\"前序\"\"\"\n",
    "    def __init__(self):\n",
    "        self.vec = list()\n",
    "\n",
    "    def traversal(self, node:TreeNode) -> list:\n",
    "        if node is None:\n",
    "            return\n",
    "        self.vec.append(node.val)\n",
    "        self.traversal(node.left)\n",
    "        self.traversal(node.right)\n",
    "        return self.vec\n",
    "    \n",
    "\n",
    "# round 1, 对递归实现二叉树遍历能理解，但是比较生疏，多结合代码逻辑体会，如终止条件、递归逻辑等"
   ]
  },
  {
   "cell_type": "code",
   "execution_count": null,
   "metadata": {},
   "outputs": [],
   "source": [
    "# round 2, review\n",
    "\n",
    "class TreeNode:\n",
    "    def __init__(self, val, left=None, right=None) -> None:\n",
    "        self.val = val\n",
    "        self.left = left\n",
    "        self.right = right\n",
    "\n",
    "class Solution:\n",
    "    def __init__(self) -> None:\n",
    "        self.vec_forward = list()\n",
    "        self.vec_middle = list()\n",
    "        self.vec_backward = list()\n",
    "    \n",
    "    def traversal_forward(self, node:TreeNode) -> list:\n",
    "        \"\"\"前序遍历\"\"\"\n",
    "        if node == None:      # 确定递归终止条件\n",
    "            return\n",
    "        self.vec_forward.append(node.val)     # 确定单层递归逻辑\n",
    "        self.traveral(self, node.left)\n",
    "        self.traveral(self, node.right)\n",
    "\n",
    "        return self.vec_forward\n",
    "    \n",
    "    def traversal_middle(self, node:TreeNode) -> list:\n",
    "        if node == None:\n",
    "            return \n",
    "        self.traversal_middle(self, node.left)\n",
    "        self.vec_middle.append(node.val)\n",
    "        self.traversal_middle(self, node.right)\n",
    "\n",
    "        return self.vec_middle\n",
    "    \n",
    "    def traversal_backward(self, node:TreeNode) -> list:\n",
    "        if node == None:\n",
    "            return \n",
    "        self.traversal_backward(self, node.left)\n",
    "        self.traversal_backward(self, node.right)\n",
    "        self.vec_backward.append(node.val)\n",
    "\n",
    "        return self.vec_backward\n",
    "\n"
   ]
  }
 ],
 "metadata": {
  "language_info": {
   "name": "python"
  }
 },
 "nbformat": 4,
 "nbformat_minor": 2
}
