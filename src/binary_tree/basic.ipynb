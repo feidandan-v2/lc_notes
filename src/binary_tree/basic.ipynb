{
 "cells": [
  {
   "cell_type": "markdown",
   "metadata": {},
   "source": [
    "**递归三部曲**\n",
    "\n",
    "1. 确定递归函数的参数和返回值\n",
    "2. 确定终止条件\n",
    "3. 确定单层递归的逻辑"
   ]
  },
  {
   "cell_type": "code",
   "execution_count": null,
   "metadata": {},
   "outputs": [],
   "source": [
    "# leecode #144 #145 #94 前中后序遍历二叉树\n",
    "\n",
    "class TreeNode(object):\n",
    "    def __init__(self, val=0, left=None, right=None) -> None:\n",
    "        self.val = val\n",
    "        self.left = left\n",
    "        self.right = right\n",
    "\n",
    "\n",
    "class Solution:\n",
    "    \"\"\"前序\"\"\"\n",
    "    def __init__(self):\n",
    "        self.vec = list()\n",
    "\n",
    "    def traversal(self, node:TreeNode) -> list:\n",
    "        if node is None:\n",
    "            return\n",
    "        self.vec.append(node.val)\n",
    "        self.traversal(node.left)\n",
    "        self.traversal(node.right)\n",
    "        return self.vec\n",
    "    \n",
    "\n",
    "# round 1, 对递归实现二叉树遍历能理解，但是比较生疏，多结合代码逻辑体会，如终止条件、递归逻辑等"
   ]
  },
  {
   "cell_type": "code",
   "execution_count": null,
   "metadata": {},
   "outputs": [],
   "source": [
    "# round 2, review\n",
    "\n",
    "class TreeNode:\n",
    "    def __init__(self, val, left=None, right=None) -> None:\n",
    "        self.val = val\n",
    "        self.left = left\n",
    "        self.right = right\n",
    "\n",
    "class Solution:\n",
    "    def __init__(self) -> None:\n",
    "        self.vec_forward = list()\n",
    "        self.vec_middle = list()\n",
    "        self.vec_backward = list()\n",
    "    \n",
    "    def traversal_forward(self, node:TreeNode) -> list:\n",
    "        \"\"\"前序遍历\"\"\"\n",
    "        if node == None:      # 确定递归终止条件\n",
    "            return\n",
    "        self.vec_forward.append(node.val)     # 确定单层递归逻辑\n",
    "        self.traveral(self, node.left)\n",
    "        self.traveral(self, node.right)\n",
    "\n",
    "        return self.vec_forward\n",
    "    \n",
    "    def traversal_middle(self, node:TreeNode) -> list:\n",
    "        if node == None:\n",
    "            return \n",
    "        self.traversal_middle(self, node.left)\n",
    "        self.vec_middle.append(node.val)\n",
    "        self.traversal_middle(self, node.right)\n",
    "\n",
    "        return self.vec_middle\n",
    "    \n",
    "    def traversal_backward(self, node:TreeNode) -> list:\n",
    "        if node == None:\n",
    "            return \n",
    "        self.traversal_backward(self, node.left)\n",
    "        self.traversal_backward(self, node.right)\n",
    "        self.vec_backward.append(node.val)\n",
    "\n",
    "        return self.vec_backward\n",
    "\n"
   ]
  },
  {
   "cell_type": "code",
   "execution_count": null,
   "metadata": {},
   "outputs": [],
   "source": [
    "# 非递归，遍历方法"
   ]
  },
  {
   "cell_type": "code",
   "execution_count": null,
   "metadata": {},
   "outputs": [],
   "source": [
    "def PreorderTraversal(root: TreeNode) -> list:\n",
    "    \"\"\"前序遍历\"\"\"\n",
    "    res = list()\n",
    "    if not root:\n",
    "        return []\n",
    "    stack = [root]\n",
    "    while stack:\n",
    "        node = stack.pop()\n",
    "        res.append(node.val)\n",
    "        if node.right:\n",
    "            stack.append(node.right)\n",
    "        if node.left:\n",
    "            stack.append(node.left)\n",
    "    return res\n"
   ]
  },
  {
   "cell_type": "code",
   "execution_count": null,
   "metadata": {},
   "outputs": [],
   "source": []
  },
  {
   "cell_type": "code",
   "execution_count": 1,
   "metadata": {},
   "outputs": [
    {
     "data": {
      "text/plain": [
       "[[]]"
      ]
     },
     "execution_count": 1,
     "metadata": {},
     "output_type": "execute_result"
    }
   ],
   "source": [
    "# 层序遍历递归实现，round 1，学习\n",
    "\n",
    "from typing import List\n",
    "\n",
    "def level_traverse(root: TreeNode) -> List[List[int]]:\n",
    "    if not root:         \n",
    "        return []\n",
    "    \n",
    "    levels = []\n",
    "    def traverse(node: TreeNode, level: int) -> List[List[int]]:\n",
    "        if not node:        # 明确递归终止条件\n",
    "            return \n",
    "        if len(levels) == level:\n",
    "            levels.append([])\n",
    "        levels[level].append(node.val)\n",
    "        traverse(node.left, level+1)\n",
    "        traverse(node.right, level+1)\n",
    "\n",
    "    traverse(root, 0)\n",
    "\n",
    "    return levels\n",
    "\n"
   ]
  },
  {
   "cell_type": "code",
   "execution_count": 4,
   "metadata": {},
   "outputs": [
    {
     "data": {
      "text/plain": [
       "[[1]]"
      ]
     },
     "execution_count": 4,
     "metadata": {},
     "output_type": "execute_result"
    }
   ],
   "source": []
  },
  {
   "cell_type": "code",
   "execution_count": null,
   "metadata": {},
   "outputs": [],
   "source": [
    "# 二叉树递归遍历，练习 20240701\n",
    "\n",
    "class TreeNode:\n",
    "    def __init__(self, val: int, left: TreeNode|None, right: TreeNode|None) -> None:\n",
    "        self.val = val\n",
    "        self.left = left\n",
    "        self.right = right\n",
    "        \n",
    "\n",
    "class "
   ]
  }
 ],
 "metadata": {
  "kernelspec": {
   "display_name": "lc",
   "language": "python",
   "name": "python3"
  },
  "language_info": {
   "codemirror_mode": {
    "name": "ipython",
    "version": 3
   },
   "file_extension": ".py",
   "mimetype": "text/x-python",
   "name": "python",
   "nbconvert_exporter": "python",
   "pygments_lexer": "ipython3",
   "version": "3.1.undefined"
  }
 },
 "nbformat": 4,
 "nbformat_minor": 2
}
