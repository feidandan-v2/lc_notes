{
 "cells": [
  {
   "cell_type": "markdown",
   "metadata": {},
   "source": [
    "**递归三部曲**\n",
    "\n",
    "1. 确定递归函数的参数和返回值\n",
    "2. 确定终止条件\n",
    "3. 确定单层递归的逻辑"
   ]
  },
  {
   "cell_type": "code",
   "execution_count": null,
   "metadata": {},
   "outputs": [],
   "source": [
    "# leecode #144 #145 #94 前中后序遍历二叉树\n",
    "\n",
    "class TreeNode(object):\n",
    "    def __init__(self, val=0, left=None, right=None) -> None:\n",
    "        self.val = val\n",
    "        self.left = left\n",
    "        self.right = right\n",
    "\n",
    "\n",
    "class Solution:\n",
    "    \"\"\"前序\"\"\"\n",
    "    def __init__(self):\n",
    "        self.vec = list()\n",
    "\n",
    "    def traversal(self, node:TreeNode) -> list:\n",
    "        if node is None:\n",
    "            return\n",
    "        self.vec.append(node.val)\n",
    "        self.traversal(node.left)\n",
    "        self.traversal(node.right)\n",
    "        return self.vec\n",
    "    \n",
    "\n",
    "# round 1, 对递归实现二叉树遍历能理解，但是比较生疏，多结合代码逻辑体会，如终止条件、递归逻辑等"
   ]
  }
 ],
 "metadata": {
  "language_info": {
   "name": "python"
  }
 },
 "nbformat": 4,
 "nbformat_minor": 2
}
