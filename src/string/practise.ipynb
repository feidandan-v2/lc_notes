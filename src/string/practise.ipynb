{
 "cells": [
  {
   "cell_type": "code",
   "execution_count": null,
   "metadata": {},
   "outputs": [],
   "source": [
    "# 344. 反转字符串\n",
    "\n",
    "# 示例 1：\n",
    "# 输入：[\"h\",\"e\",\"l\",\"l\",\"o\"]\n",
    "# 输出：[\"o\",\"l\",\"l\",\"e\",\"h\"]\n",
    "\n",
    "# 示例 2：\n",
    "# 输入：[\"H\",\"a\",\"n\",\"n\",\"a\",\"h\"]\n",
    "# 输出：[\"h\",\"a\",\"n\",\"n\",\"a\",\"H\"]\n",
    "\n"
   ]
  },
  {
   "cell_type": "code",
   "execution_count": 7,
   "metadata": {},
   "outputs": [
    {
     "name": "stdout",
     "output_type": "stream",
     "text": [
      "0\n",
      "1\n",
      "2\n"
     ]
    },
    {
     "data": {
      "text/plain": [
       "'cba'"
      ]
     },
     "execution_count": 7,
     "metadata": {},
     "output_type": "execute_result"
    }
   ],
   "source": [
    "string = 'abc'\n",
    "string_list = list(string)\n",
    "# 额外空间\n",
    "new_list = [0 for _ in range(0,len(string))]\n",
    "for i in range(0, len(string)):\n",
    "    print(i)\n",
    "    new_list[len(string)-i-1] = string_list[i]\n",
    "new_list\n",
    "reversed_string = ''.join(new_list)\n",
    "reversed_string\n",
    "\n",
    "# TO(n), SO(n)"
   ]
  },
  {
   "cell_type": "code",
   "execution_count": 10,
   "metadata": {},
   "outputs": [
    {
     "data": {
      "text/plain": [
       "'cba'"
      ]
     },
     "execution_count": 10,
     "metadata": {},
     "output_type": "execute_result"
    }
   ],
   "source": [
    "# TO(n), SO(1)\n",
    "string_list = list(string)\n",
    "left_idx, right_idx = 0, len(string)-1\n",
    "while left_idx < right_idx:\n",
    "    tmp = string_list[left_idx]\n",
    "    string_list[left_idx] = string_list[right_idx]\n",
    "    string_list[right_idx] = tmp\n",
    "    left_idx += 1\n",
    "    right_idx -= 1\n",
    "\n",
    "string_list \n",
    "reversed_string = ''.join(string_list)\n",
    "reversed_string"
   ]
  },
  {
   "cell_type": "code",
   "execution_count": 13,
   "metadata": {},
   "outputs": [
    {
     "data": {
      "text/plain": [
       "'gfedcba'"
      ]
     },
     "execution_count": 13,
     "metadata": {},
     "output_type": "execute_result"
    }
   ],
   "source": [
    "def str_reverse(text: str) -> str:\n",
    "    string_list = list(text)\n",
    "    left, right = 0, len(text)-1\n",
    "    while left < right:\n",
    "        tmp = string_list[left]\n",
    "        string_list[left] = string_list[right]\n",
    "        string_list[right] = tmp\n",
    "        left += 1\n",
    "        right -= 1\n",
    "    \n",
    "    return ''.join(string_list)\n",
    "\n",
    "\n",
    "str_reverse(text='abcdefg')\n"
   ]
  },
  {
   "cell_type": "code",
   "execution_count": 23,
   "metadata": {},
   "outputs": [
    {
     "ename": "TypeError",
     "evalue": "list indices must be integers or slices, not tuple",
     "output_type": "error",
     "traceback": [
      "\u001b[0;31m---------------------------------------------------------------------------\u001b[0m",
      "\u001b[0;31mTypeError\u001b[0m                                 Traceback (most recent call last)",
      "Cell \u001b[0;32mIn[23], line 30\u001b[0m\n\u001b[1;32m     26\u001b[0m         prefix \u001b[38;5;241m+\u001b[39m\u001b[38;5;241m=\u001b[39m string_list[\u001b[38;5;241m-\u001b[39mk:]\n\u001b[1;32m     28\u001b[0m     \u001b[38;5;28;01mreturn\u001b[39;00m \u001b[38;5;124m'\u001b[39m\u001b[38;5;124m'\u001b[39m\u001b[38;5;241m.\u001b[39mjoin(string_list)\n\u001b[0;32m---> 30\u001b[0m \u001b[43mstr_reverse_2\u001b[49m\u001b[43m(\u001b[49m\u001b[43mtext\u001b[49m\u001b[38;5;241;43m=\u001b[39;49m\u001b[38;5;124;43m'\u001b[39;49m\u001b[38;5;124;43mabcdefg\u001b[39;49m\u001b[38;5;124;43m'\u001b[39;49m\u001b[43m,\u001b[49m\u001b[43m \u001b[49m\u001b[43mk\u001b[49m\u001b[38;5;241;43m=\u001b[39;49m\u001b[38;5;241;43m2\u001b[39;49m\u001b[43m)\u001b[49m\n",
      "Cell \u001b[0;32mIn[23], line 21\u001b[0m, in \u001b[0;36mstr_reverse_2\u001b[0;34m(text, k)\u001b[0m\n\u001b[1;32m     19\u001b[0m prefix \u001b[38;5;241m=\u001b[39m []\n\u001b[1;32m     20\u001b[0m \u001b[38;5;28;01mfor\u001b[39;00m i \u001b[38;5;129;01min\u001b[39;00m \u001b[38;5;28mrange\u001b[39m(\u001b[38;5;241m0\u001b[39m, n):\n\u001b[0;32m---> 21\u001b[0m     prefix \u001b[38;5;241m+\u001b[39m\u001b[38;5;241m=\u001b[39m str_reverse1(\u001b[43mstring_list\u001b[49m\u001b[43m[\u001b[49m\u001b[43mi\u001b[49m\u001b[38;5;241;43m*\u001b[39;49m\u001b[43m(\u001b[49m\u001b[38;5;241;43m2\u001b[39;49m\u001b[38;5;241;43m*\u001b[39;49m\u001b[43mk\u001b[49m\u001b[43m)\u001b[49m\u001b[43m,\u001b[49m\u001b[43m \u001b[49m\u001b[43mi\u001b[49m\u001b[38;5;241;43m*\u001b[39;49m\u001b[43mk\u001b[49m\u001b[38;5;241;43m+\u001b[39;49m\u001b[38;5;241;43m2\u001b[39;49m\u001b[38;5;241;43m*\u001b[39;49m\u001b[43mk\u001b[49m\u001b[43m]\u001b[49m)\n\u001b[1;32m     22\u001b[0m \u001b[38;5;28;01mif\u001b[39;00m m \u001b[38;5;241m<\u001b[39m k:\n\u001b[1;32m     23\u001b[0m     prefix \u001b[38;5;241m+\u001b[39m\u001b[38;5;241m=\u001b[39m str_reverse1(string_list[\u001b[38;5;241m-\u001b[39mm:])\n",
      "\u001b[0;31mTypeError\u001b[0m: list indices must be integers or slices, not tuple"
     ]
    }
   ],
   "source": [
    "def str_reverse1(text: str) -> str:\n",
    "    string_list = list(text)\n",
    "    left, right = 0, len(text)-1\n",
    "    while left < right:\n",
    "        tmp = string_list[left]\n",
    "        string_list[left] = string_list[right]\n",
    "        string_list[right] = tmp\n",
    "        left += 1\n",
    "        right -= 1\n",
    "    \n",
    "    return string_list\n",
    "\n",
    "\n",
    "def str_reverse_2(text: str, k: int) -> str:\n",
    "    string_list = list(text)\n",
    "    text_len = len(text)\n",
    "    n = text_len//(2*k)\n",
    "    m = text_len%(2*k)\n",
    "    prefix = []\n",
    "    for i in range(0, n):\n",
    "        prefix += str_reverse1(string_list[i*(2*k), i*k+2*k])\n",
    "    if m < k:\n",
    "        prefix += str_reverse1(string_list[-m:])\n",
    "    if m > k and m < 2*k:\n",
    "        prefix += str_reverse1(string_list[-(m-k):-k])\n",
    "        prefix += string_list[-k:]\n",
    "\n",
    "    return ''.join(string_list)\n",
    "\n",
    "str_reverse_2(text='abcdefg', k=2)"
   ]
  },
  {
   "cell_type": "code",
   "execution_count": 20,
   "metadata": {},
   "outputs": [
    {
     "data": {
      "text/plain": [
       "[4, 5]"
      ]
     },
     "execution_count": 20,
     "metadata": {},
     "output_type": "execute_result"
    }
   ],
   "source": []
  },
  {
   "cell_type": "code",
   "execution_count": null,
   "metadata": {},
   "outputs": [],
   "source": []
  }
 ],
 "metadata": {
  "kernelspec": {
   "display_name": ".venv",
   "language": "python",
   "name": "python3"
  },
  "language_info": {
   "codemirror_mode": {
    "name": "ipython",
    "version": 3
   },
   "file_extension": ".py",
   "mimetype": "text/x-python",
   "name": "python",
   "nbconvert_exporter": "python",
   "pygments_lexer": "ipython3",
   "version": "3.10.14"
  }
 },
 "nbformat": 4,
 "nbformat_minor": 2
}
