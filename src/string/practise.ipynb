{
 "cells": [
  {
   "cell_type": "code",
   "execution_count": null,
   "metadata": {},
   "outputs": [],
   "source": [
    "# 344. 反转字符串\n",
    "\n",
    "# 示例 1：\n",
    "# 输入：[\"h\",\"e\",\"l\",\"l\",\"o\"]\n",
    "# 输出：[\"o\",\"l\",\"l\",\"e\",\"h\"]\n",
    "\n",
    "# 示例 2：\n",
    "# 输入：[\"H\",\"a\",\"n\",\"n\",\"a\",\"h\"]\n",
    "# 输出：[\"h\",\"a\",\"n\",\"n\",\"a\",\"H\"]\n",
    "\n"
   ]
  },
  {
   "cell_type": "code",
   "execution_count": 7,
   "metadata": {},
   "outputs": [
    {
     "name": "stdout",
     "output_type": "stream",
     "text": [
      "0\n",
      "1\n",
      "2\n"
     ]
    },
    {
     "data": {
      "text/plain": [
       "'cba'"
      ]
     },
     "execution_count": 7,
     "metadata": {},
     "output_type": "execute_result"
    }
   ],
   "source": [
    "string = 'abc'\n",
    "string_list = list(string)\n",
    "# 额外空间\n",
    "new_list = [0 for _ in range(0,len(string))]\n",
    "for i in range(0, len(string)):\n",
    "    print(i)\n",
    "    new_list[len(string)-i-1] = string_list[i]\n",
    "new_list\n",
    "reversed_string = ''.join(new_list)\n",
    "reversed_string\n",
    "\n",
    "# TO(n), SO(n)"
   ]
  },
  {
   "cell_type": "code",
   "execution_count": 10,
   "metadata": {},
   "outputs": [
    {
     "data": {
      "text/plain": [
       "'cba'"
      ]
     },
     "execution_count": 10,
     "metadata": {},
     "output_type": "execute_result"
    }
   ],
   "source": [
    "# TO(n), SO(1)\n",
    "string_list = list(string)\n",
    "left_idx, right_idx = 0, len(string)-1\n",
    "while left_idx < right_idx:\n",
    "    tmp = string_list[left_idx]\n",
    "    string_list[left_idx] = string_list[right_idx]\n",
    "    string_list[right_idx] = tmp\n",
    "    left_idx += 1\n",
    "    right_idx -= 1\n",
    "\n",
    "string_list \n",
    "reversed_string = ''.join(string_list)\n",
    "reversed_string"
   ]
  },
  {
   "cell_type": "code",
   "execution_count": null,
   "metadata": {},
   "outputs": [],
   "source": []
  }
 ],
 "metadata": {
  "kernelspec": {
   "display_name": ".venv",
   "language": "python",
   "name": "python3"
  },
  "language_info": {
   "codemirror_mode": {
    "name": "ipython",
    "version": 3
   },
   "file_extension": ".py",
   "mimetype": "text/x-python",
   "name": "python",
   "nbconvert_exporter": "python",
   "pygments_lexer": "ipython3",
   "version": "3.10.14"
  }
 },
 "nbformat": 4,
 "nbformat_minor": 2
}
