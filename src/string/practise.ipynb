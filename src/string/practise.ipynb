{
 "cells": [
  {
   "cell_type": "code",
   "execution_count": null,
   "metadata": {},
   "outputs": [],
   "source": [
    "# 344. 反转字符串\n",
    "\n",
    "# 示例 1：\n",
    "# 输入：[\"h\",\"e\",\"l\",\"l\",\"o\"]\n",
    "# 输出：[\"o\",\"l\",\"l\",\"e\",\"h\"]\n",
    "\n",
    "# 示例 2：\n",
    "# 输入：[\"H\",\"a\",\"n\",\"n\",\"a\",\"h\"]\n",
    "# 输出：[\"h\",\"a\",\"n\",\"n\",\"a\",\"H\"]\n",
    "\n"
   ]
  },
  {
   "cell_type": "code",
   "execution_count": 7,
   "metadata": {},
   "outputs": [
    {
     "name": "stdout",
     "output_type": "stream",
     "text": [
      "0\n",
      "1\n",
      "2\n"
     ]
    },
    {
     "data": {
      "text/plain": [
       "'cba'"
      ]
     },
     "execution_count": 7,
     "metadata": {},
     "output_type": "execute_result"
    }
   ],
   "source": [
    "string = 'abc'\n",
    "string_list = list(string)\n",
    "# 额外空间\n",
    "new_list = [0 for _ in range(0,len(string))]\n",
    "for i in range(0, len(string)):\n",
    "    print(i)\n",
    "    new_list[len(string)-i-1] = string_list[i]\n",
    "new_list\n",
    "reversed_string = ''.join(new_list)\n",
    "reversed_string\n",
    "\n",
    "# TO(n), SO(n)"
   ]
  },
  {
   "cell_type": "code",
   "execution_count": 10,
   "metadata": {},
   "outputs": [
    {
     "data": {
      "text/plain": [
       "'cba'"
      ]
     },
     "execution_count": 10,
     "metadata": {},
     "output_type": "execute_result"
    }
   ],
   "source": [
    "# TO(n), SO(1)\n",
    "string_list = list(string)\n",
    "left_idx, right_idx = 0, len(string)-1\n",
    "while left_idx < right_idx:\n",
    "    tmp = string_list[left_idx]\n",
    "    string_list[left_idx] = string_list[right_idx]\n",
    "    string_list[right_idx] = tmp\n",
    "    left_idx += 1\n",
    "    right_idx -= 1\n",
    "\n",
    "string_list \n",
    "reversed_string = ''.join(string_list)\n",
    "reversed_string"
   ]
  },
  {
   "cell_type": "code",
   "execution_count": 13,
   "metadata": {},
   "outputs": [
    {
     "data": {
      "text/plain": [
       "'gfedcba'"
      ]
     },
     "execution_count": 13,
     "metadata": {},
     "output_type": "execute_result"
    }
   ],
   "source": [
    "def str_reverse(text: str) -> str:\n",
    "    string_list = list(text)\n",
    "    left, right = 0, len(text)-1\n",
    "    while left < right:\n",
    "        tmp = string_list[left]\n",
    "        string_list[left] = string_list[right]\n",
    "        string_list[right] = tmp\n",
    "        left += 1\n",
    "        right -= 1\n",
    "    \n",
    "    return ''.join(string_list)\n",
    "\n",
    "\n",
    "str_reverse(text='abcdefg')\n"
   ]
  },
  {
   "cell_type": "code",
   "execution_count": 52,
   "metadata": {},
   "outputs": [
    {
     "name": "stdout",
     "output_type": "stream",
     "text": [
      "8\n",
      "['a', 'b', 'c', 'd', 'e', 'f', 'g', 'h']\n",
      "range: 0 6\n",
      "reversed: 0 3\n",
      "rest: 3 6\n",
      "==========\n",
      "['a', 'b', 'c']\n",
      "range: 6 12\n",
      "reversed: 6 9\n",
      "rest: 9 12\n",
      "==========\n",
      "['g', 'h']\n",
      "cbadefhg\n"
     ]
    }
   ],
   "source": [
    "# text='abcdefghijklmn'\n",
    "text = 'abcdefgh'\n",
    "k=3\n",
    "print(len(text))\n",
    "\n",
    "def str_reverse1(text: list) -> str:\n",
    "    left, right = 0, len(text)-1\n",
    "    while left < right:\n",
    "        tmp = text[left]\n",
    "        text[left] = text[right]\n",
    "        text[right] = tmp\n",
    "        left += 1\n",
    "        right -= 1\n",
    "    \n",
    "    return text\n",
    "\n",
    "text_list = list(text)\n",
    "print(text_list)\n",
    "for i in range(0, len(text), 2*k):\n",
    "    print('range:', i, i+2*k)\n",
    "    print('reversed:', i, i+k)\n",
    "    print('rest:', i+k, i+2*k)\n",
    "    print('='*10)\n",
    "    print(text_list[i:i+k])\n",
    "    # text_list[i:i+k] = str_reverse1(text_list[i:i+k])\n",
    "    \n",
    "    # 以上写法很简洁，充分利用了以下特性：字符串末尾如果超过最大长度，则会返回至字符串最后一个值，这个特性可以避免一些边界条件的处理\n",
    "\n",
    "    # 如果正常写\n",
    "    if len(text) - i < k:\n",
    "        text_list[i:] = str_reverse1(text_list[i:])\n",
    "    elif len(text) - i >= k and len(text) - i < 2*k:\n",
    "        text_list[i:i+k] = str_reverse1(text_list[i:i+k])\n",
    "    else:\n",
    "        text_list[i:i+k] = str_reverse1(text_list[i:i+k])\n",
    "\n",
    "    \n",
    "print(''.join(text_list))\n",
    "\n",
    "    \n",
    "    \n"
   ]
  },
  {
   "cell_type": "code",
   "execution_count": 35,
   "metadata": {},
   "outputs": [
    {
     "data": {
      "text/plain": [
       "'cbadefihgjklnm'"
      ]
     },
     "execution_count": 35,
     "metadata": {},
     "output_type": "execute_result"
    }
   ],
   "source": [
    "# ref: https://www.programmercarl.com/0541.%E5%8F%8D%E8%BD%AC%E5%AD%97%E7%AC%A6%E4%B8%B2II.html#%E6%80%9D%E8%B7%AF \n",
    "\n",
    "class Solution:\n",
    "    def reverseStr(self, s: str, k: int) -> str:\n",
    "        \"\"\"\n",
    "        1. 使用range(start, end, step)来确定需要调换的初始位置\n",
    "        2. 对于字符串s = 'abc'，如果使用s[0:999] ===> 'abc'。字符串末尾如果超过最大长度，则会返回至字符串最后一个值，这个特性可以避免一些边界条件的处理。\n",
    "        3. 用切片整体替换，而不是一个个替换.\n",
    "        \"\"\"\n",
    "        def reverse_substring(text):\n",
    "            left, right = 0, len(text) - 1\n",
    "            while left < right:\n",
    "                text[left], text[right] = text[right], text[left]\n",
    "                left += 1\n",
    "                right -= 1\n",
    "            return text\n",
    "        \n",
    "        res = list(s)\n",
    "\n",
    "        for cur in range(0, len(s), 2 * k):\n",
    "            res[cur: cur + k] = reverse_substring(res[cur: cur + k])\n",
    "        \n",
    "        return ''.join(res)\n",
    "    \n",
    "s = Solution()\n",
    "s.reverseStr(text,k)"
   ]
  },
  {
   "cell_type": "code",
   "execution_count": null,
   "metadata": {},
   "outputs": [],
   "source": []
  },
  {
   "cell_type": "code",
   "execution_count": null,
   "metadata": {},
   "outputs": [],
   "source": [
    "# 151.翻转字符串里的单词，先尝试容易实现但是复杂度较高的，再尝试双指针，空间复杂度O(1)"
   ]
  },
  {
   "cell_type": "code",
   "execution_count": 67,
   "metadata": {},
   "outputs": [
    {
     "name": "stdout",
     "output_type": "stream",
     "text": [
      "  world!  hello  \n"
     ]
    }
   ],
   "source": [
    "def reverse_str_words(text: str) -> str:\n",
    "    text_list = text.split(\" \")\n",
    "    left, right = 0, len(text_list)-1\n",
    "    while left < right:\n",
    "        while text_list[left] == \"\":\n",
    "            left += 1\n",
    "        while text_list[right] == \"\":\n",
    "            right -= 1\n",
    "        tmp = text_list[left]\n",
    "        text_list[left] = text_list[right]\n",
    "        text_list[right] = tmp\n",
    "        \n",
    "        left += 1\n",
    "        right -= 1\n",
    "    return \" \".join(text_list)\n",
    "\n",
    "# text = \"the sky is blue\"\n",
    "text = \"  hello  world!  \"\n",
    "res = reverse_str_words(text)\n",
    "print(res)"
   ]
  },
  {
   "cell_type": "code",
   "execution_count": 68,
   "metadata": {},
   "outputs": [
    {
     "data": {
      "text/plain": [
       "'hello  world!'"
      ]
     },
     "execution_count": 68,
     "metadata": {},
     "output_type": "execute_result"
    }
   ],
   "source": [
    "text.strip()"
   ]
  },
  {
   "cell_type": "code",
   "execution_count": 64,
   "metadata": {},
   "outputs": [
    {
     "data": {
      "text/plain": [
       "True"
      ]
     },
     "execution_count": 64,
     "metadata": {},
     "output_type": "execute_result"
    }
   ],
   "source": [
    "# 问题：缺少去除空格的步骤，需要了解下如何利用双指针去除空格，参考27.移除元素"
   ]
  },
  {
   "cell_type": "code",
   "execution_count": 86,
   "metadata": {},
   "outputs": [
    {
     "name": "stdout",
     "output_type": "stream",
     "text": [
      "[1, 2, 4, 5, 5]\n"
     ]
    }
   ],
   "source": [
    "def remove_element(nums: list[int], k) -> list[int]:\n",
    "    slow = 0\n",
    "    for fast in range(0, len(nums)):\n",
    "        if nums[fast] != k:\n",
    "            nums[slow] = nums[fast]\n",
    "            slow += 1\n",
    "    return nums[0:slow]\n",
    "\n",
    "nums = [1,2,3,4,3,5,5]\n",
    "res= remove_element(nums, 3)\n",
    "print(res)"
   ]
  },
  {
   "cell_type": "code",
   "execution_count": null,
   "metadata": {},
   "outputs": [],
   "source": [
    "# 重新按照视频的思路：先去除多余空格，然后整体翻转，然后逐个单词处理"
   ]
  },
  {
   "cell_type": "code",
   "execution_count": 90,
   "metadata": {},
   "outputs": [
    {
     "name": "stdout",
     "output_type": "stream",
     "text": [
      "[' ', ' ', 'h', 'e', 'l', 'l', 'o', ' ', ' ', 'w', 'o', 'r', 'l', 'd']\n",
      "0 2\n",
      "1 3\n",
      "2 4\n",
      "3 5\n",
      "4 6\n",
      "6 3\n",
      "7 4\n",
      "9 4\n",
      "11 6\n",
      "12 7\n",
      "14 7\n"
     ]
    },
    {
     "ename": "IndexError",
     "evalue": "list assignment index out of range",
     "output_type": "error",
     "traceback": [
      "\u001b[0;31m---------------------------------------------------------------------------\u001b[0m",
      "\u001b[0;31mIndexError\u001b[0m                                Traceback (most recent call last)",
      "Cell \u001b[0;32mIn[90], line 20\u001b[0m\n\u001b[1;32m     16\u001b[0m     \u001b[38;5;28;01mreturn\u001b[39;00m text[\u001b[38;5;241m0\u001b[39m: slow]\n\u001b[1;32m     19\u001b[0m text \u001b[38;5;241m=\u001b[39m \u001b[38;5;124m\"\u001b[39m\u001b[38;5;124m  hello  world\u001b[39m\u001b[38;5;124m\"\u001b[39m\n\u001b[0;32m---> 20\u001b[0m res \u001b[38;5;241m=\u001b[39m \u001b[43mremove_space\u001b[49m\u001b[43m(\u001b[49m\u001b[43mtext\u001b[49m\u001b[43m)\u001b[49m\n\u001b[1;32m     21\u001b[0m \u001b[38;5;28mprint\u001b[39m(res)\n",
      "Cell \u001b[0;32mIn[90], line 13\u001b[0m, in \u001b[0;36mremove_space\u001b[0;34m(text)\u001b[0m\n\u001b[1;32m     11\u001b[0m \u001b[38;5;28;01mwhile\u001b[39;00m (fast \u001b[38;5;241m<\u001b[39m \u001b[38;5;28mlen\u001b[39m(text)) \u001b[38;5;129;01mand\u001b[39;00m (text[fast]\u001b[38;5;241m!=\u001b[39m \u001b[38;5;124m\"\u001b[39m\u001b[38;5;124m \u001b[39m\u001b[38;5;124m\"\u001b[39m):\n\u001b[1;32m     12\u001b[0m     \u001b[38;5;28mprint\u001b[39m(slow, fast)\n\u001b[0;32m---> 13\u001b[0m     \u001b[43mtext\u001b[49m\u001b[43m[\u001b[49m\u001b[43mslow\u001b[49m\u001b[43m]\u001b[49m \u001b[38;5;241m=\u001b[39m text[fast]\n\u001b[1;32m     14\u001b[0m     slow \u001b[38;5;241m+\u001b[39m\u001b[38;5;241m=\u001b[39m\u001b[38;5;241m1\u001b[39m\n\u001b[1;32m     15\u001b[0m     fast \u001b[38;5;241m+\u001b[39m\u001b[38;5;241m=\u001b[39m\u001b[38;5;241m1\u001b[39m \n",
      "\u001b[0;31mIndexError\u001b[0m: list assignment index out of range"
     ]
    }
   ],
   "source": [
    "def remove_space(text: str) -> str:\n",
    "    # 快慢指针思路，快指针用于遍历不为空的字母，慢指针用于表明更新在哪个位置\n",
    "    text = list(text)\n",
    "    print(text)\n",
    "    slow = 0\n",
    "    for fast in range(0, len(text)):\n",
    "        if text[fast] != \" \":  # 快指针用于遍历不为空的字母\n",
    "            if slow != 0:  # 说明不是第一个单词，\n",
    "                text[slow] = \" \"\n",
    "                slow += 1\n",
    "            while (fast < len(text)) and (text[fast]!= \" \"):\n",
    "                print(slow, fast)\n",
    "                text[slow] = text[fast]\n",
    "                slow +=1\n",
    "                fast +=1 \n",
    "    return text[0: slow]\n",
    "\n",
    "\n",
    "text = \"  hello  world\"\n",
    "res = remove_space(text)\n",
    "print(res)"
   ]
  },
  {
   "cell_type": "code",
   "execution_count": 76,
   "metadata": {},
   "outputs": [
    {
     "ename": "TypeError",
     "evalue": "'str' object does not support item assignment",
     "output_type": "error",
     "traceback": [
      "\u001b[0;31m---------------------------------------------------------------------------\u001b[0m",
      "\u001b[0;31mTypeError\u001b[0m                                 Traceback (most recent call last)",
      "Cell \u001b[0;32mIn[76], line 17\u001b[0m\n\u001b[1;32m     13\u001b[0m     \u001b[38;5;28;01mreturn\u001b[39;00m text[\u001b[38;5;241m0\u001b[39m:slow]\n\u001b[1;32m     16\u001b[0m text \u001b[38;5;241m=\u001b[39m \u001b[38;5;124m\"\u001b[39m\u001b[38;5;124m  hello  world\u001b[39m\u001b[38;5;124m\"\u001b[39m\n\u001b[0;32m---> 17\u001b[0m res \u001b[38;5;241m=\u001b[39m \u001b[43mremove_space\u001b[49m\u001b[43m(\u001b[49m\u001b[43mtext\u001b[49m\u001b[43m)\u001b[49m\n\u001b[1;32m     18\u001b[0m \u001b[38;5;28mprint\u001b[39m(res)\n",
      "Cell \u001b[0;32mIn[76], line 10\u001b[0m, in \u001b[0;36mremove_space\u001b[0;34m(text)\u001b[0m\n\u001b[1;32m      8\u001b[0m     text[slow] \u001b[38;5;241m=\u001b[39m \u001b[38;5;124m\"\u001b[39m\u001b[38;5;124m \u001b[39m\u001b[38;5;124m\"\u001b[39m\n\u001b[1;32m      9\u001b[0m     slow \u001b[38;5;241m+\u001b[39m\u001b[38;5;241m=\u001b[39m \u001b[38;5;241m1\u001b[39m\n\u001b[0;32m---> 10\u001b[0m \u001b[43mtext\u001b[49m\u001b[43m[\u001b[49m\u001b[43mslow\u001b[49m\u001b[43m]\u001b[49m \u001b[38;5;241m=\u001b[39m text[fast]\n\u001b[1;32m     11\u001b[0m slow \u001b[38;5;241m+\u001b[39m\u001b[38;5;241m=\u001b[39m\u001b[38;5;241m1\u001b[39m\n\u001b[1;32m     12\u001b[0m fast \u001b[38;5;241m+\u001b[39m\u001b[38;5;241m=\u001b[39m\u001b[38;5;241m1\u001b[39m\n",
      "\u001b[0;31mTypeError\u001b[0m: 'str' object does not support item assignment"
     ]
    }
   ],
   "source": [
    "def remove_space(text: str) -> str:\n",
    "    fast, slow = 0, 0\n",
    "    while fast < len(text):\n",
    "        while fast == \" \":\n",
    "            fast += 1\n",
    "        while fast != \" \" and fast < len(text):\n",
    "            if slow != 0:\n",
    "                text[slow] = \" \"\n",
    "                slow += 1\n",
    "            text[slow] = text[fast]\n",
    "            slow +=1\n",
    "            fast +=1\n",
    "    return text[0:slow]\n",
    "\n",
    "\n",
    "text = \"  hello  world\"\n",
    "res = remove_space(text)\n",
    "print(res)"
   ]
  },
  {
   "cell_type": "code",
   "execution_count": 134,
   "metadata": {},
   "outputs": [
    {
     "name": "stdout",
     "output_type": "stream",
     "text": [
      "['h', 'e', 'l', 'l', 'o', ' ', 'w', 'o', 'r', 'l', 'd', ' ', 'b', 'o', 'y']\n"
     ]
    }
   ],
   "source": [
    "# 按照自己的理解先实现去除多余空格\n",
    "\n",
    "def remove_space(text: str) -> list[str]:\n",
    "    \"\"\"\n",
    "    使用快慢指针，快指针用于按顺序遍历非空的元素，慢指针用于按顺序更新非空元素的下标\n",
    "    \"\"\"\n",
    "    text_list = list(text)\n",
    "    slow = 0\n",
    "    for fast in range(0, len(text_list)):\n",
    "        if text_list[fast] != \" \":\n",
    "            text_list[slow] = text_list[fast]\n",
    "            slow += 1\n",
    "            if fast + 1 < len(text_list) and text_list[fast+1] == \" \":   # 字母的后一位为空\n",
    "                text_list[slow] = \" \"\n",
    "                slow += 1\n",
    "    if text_list[slow-1] == \" \":\n",
    "        return text_list[0: slow-1]\n",
    "    else:\n",
    "        return text_list[0: slow]\n",
    "    \n",
    "text = \"   hello   world   boy  \"\n",
    "res = remove_space(text)\n",
    "print(res)\n",
    "    "
   ]
  },
  {
   "cell_type": "code",
   "execution_count": 135,
   "metadata": {},
   "outputs": [
    {
     "name": "stdout",
     "output_type": "stream",
     "text": [
      "['y', 'o', 'b', ' ', 'd', 'l', 'r', 'o', 'w', ' ', 'o', 'l', 'l', 'e', 'h']\n"
     ]
    }
   ],
   "source": [
    "# remove_space 成功\n",
    "# 下一步，实现全部反转\n",
    "\n",
    "def reverse_element(text_list: list[str]) -> list[str]:\n",
    "    \"\"\"\n",
    "    双指针实现元素反转，空间复杂度O(1)\n",
    "    \"\"\"\n",
    "    left, right = 0, len(text_list)-1\n",
    "    while left < right:\n",
    "        tmp = text_list[left]\n",
    "        text_list[left] = text_list[right]\n",
    "        text_list[right] = tmp\n",
    "        left += 1\n",
    "        right -= 1\n",
    "    return text_list\n",
    "\n",
    "text = list(\"hello world boy\")\n",
    "res1 = reverse_element(res)\n",
    "print(res1)\n"
   ]
  },
  {
   "cell_type": "code",
   "execution_count": 136,
   "metadata": {},
   "outputs": [
    {
     "name": "stdout",
     "output_type": "stream",
     "text": [
      "['b', 'o', 'y', ' ', 'w', 'o', 'r', 'l', 'd', ' ', 'h', 'e', 'l', 'l', 'o']\n"
     ]
    }
   ],
   "source": [
    "# reverse_element 成功\n",
    "# 下一步，实现最终的单词反转\n",
    "\n",
    "def reverse_word(text_list: list) -> list:\n",
    "    \"\"\"\n",
    "    使用双指针，快慢指针，分别寻找单词的起止位置\n",
    "    \"\"\"\n",
    "    slow, fast = 0, 0\n",
    "    while fast < len(text_list):\n",
    "        # print('fast:', fast)\n",
    "        if text_list[fast] == \" \":\n",
    "            text_list[slow: fast] = reverse_element(text_list[slow: fast])\n",
    "            slow = fast + 1\n",
    "        if fast == len(text_list)-1:\n",
    "            text_list[slow: fast+1] = reverse_element(text_list[slow: fast+1])\n",
    "        # print('slow:', slow)\n",
    "        fast +=1\n",
    "    return text_list\n",
    "\n",
    "res2 = reverse_word(res1)\n",
    "print(res2)"
   ]
  },
  {
   "cell_type": "code",
   "execution_count": 111,
   "metadata": {},
   "outputs": [
    {
     "data": {
      "text/plain": [
       "['o', 'l', 'l', 'e']"
      ]
     },
     "execution_count": 111,
     "metadata": {},
     "output_type": "execute_result"
    }
   ],
   "source": [
    "# 按照自己理解三趟基本成功"
   ]
  },
  {
   "cell_type": "code",
   "execution_count": 137,
   "metadata": {},
   "outputs": [],
   "source": [
    "# 将整个流程串联完成一遍"
   ]
  },
  {
   "cell_type": "code",
   "execution_count": 172,
   "metadata": {},
   "outputs": [],
   "source": [
    "class Solution:\n",
    "    \"\"\"\n",
    "    反转字符串（可能待空格）里的单词，时间复杂度O(n), 空间复杂度O(1), 分三步：\n",
    "    1. 去掉多余的空格\n",
    "    2. 整体反转\n",
    "    3. 逐个单词反转\n",
    "    \"\"\"\n",
    "    # def __init__(self, text: str) -> None:\n",
    "    #     self.text = text\n",
    "\n",
    "    def remove_space(self, text_list: list) -> str:\n",
    "        # 使用快慢指针去除空格，但是保留单词间的空格，快指针用于遍历非空的字符，慢指针用于更新新数组的位置下标\n",
    "        # text_list = list(text)\n",
    "        slow = 0\n",
    "        for fast in range(0, len(text_list)):\n",
    "            if text[fast] != \" \":\n",
    "                text_list[slow] = text_list[fast]\n",
    "                slow += 1\n",
    "                if fast+1 < len(text) and text_list[fast+1] == \" \":\n",
    "                    text_list[slow] = \" \"\n",
    "                    slow += 1\n",
    "        return text_list[0:slow]\n",
    "    \n",
    "    def reverse_text(self, text_list: list) -> list:\n",
    "        # 使用双指针，左右指针同时向中间遍历\n",
    "        left, right = 0, len(text_list)-1\n",
    "        while left < right:\n",
    "            tmp = text_list[left]\n",
    "            text_list[left] = text_list[right]\n",
    "            text_list[right] = tmp\n",
    "            left +=1\n",
    "            right -=1\n",
    "        return text_list\n",
    "    \n",
    "    def reverse_words(self, text: str) -> str:\n",
    "        text_list = list(text)\n",
    "        cleaned_text_list = self.remove_space(text_list)\n",
    "        print('cleaned_text_list:', cleaned_text_list)\n",
    "        reversed_text_list = self.reverse_text(cleaned_text_list)\n",
    "        print('reversed_text_list:', reversed_text_list)\n",
    "        # 使用快慢指针分别reverse单词，快指针指向单词末尾，慢指针指向单词开头\n",
    "        fast, slow = 1, 1\n",
    "        while fast < len(reversed_text_list):\n",
    "            if reversed_text_list[fast] == \" \":    # 错误点2: 又忘记了是元素不为空而不是下标\n",
    "                reversed_text_list[slow:fast] = self.reverse_text(reversed_text_list[slow:fast])\n",
    "                slow = fast+1\n",
    "            if fast == len(reversed_text_list) - 1:\n",
    "                reversed_text_list[slow:fast+1] = self.reverse_text(reversed_text_list[slow:fast+1])\n",
    "            fast += 1     # 错误点1: 放在前后的一个简单判断就是放在前面先加了1，后面的if计算都是加过1后的；放在后面，前面的if判断都是基于现有的fast\n",
    "\n",
    "        return \"\".join(reversed_text_list[1: fast])\n",
    "        \n"
   ]
  },
  {
   "cell_type": "code",
   "execution_count": 173,
   "metadata": {},
   "outputs": [
    {
     "name": "stdout",
     "output_type": "stream",
     "text": [
      "['h', 'e', 'l', 'l', 'o', ' ', 'w', 'o', 'r', 'l', 'd', ' ', 'g', 'i', 'r', 'l', ' ']\n",
      "[' ', 'l', 'r', 'i', 'g', ' ', 'd', 'l', 'r', 'o', 'w', ' ', 'o', 'l', 'l', 'e', 'h']\n",
      "cleaned_text_list: ['h', 'e', 'l', 'l', 'o', ' ', 'w', 'o', 'r', 'l', 'd', ' ', 'g', 'i', 'r', 'l', ' ']\n",
      "reversed_text_list: [' ', 'l', 'r', 'i', 'g', ' ', 'd', 'l', 'r', 'o', 'w', ' ', 'o', 'l', 'l', 'e', 'h']\n",
      "girl world hello\n"
     ]
    }
   ],
   "source": [
    "text = \"  hello  world  girl  \"\n",
    "text_list = list(text)\n",
    "s = Solution()\n",
    "res1 = s.remove_space(text_list)\n",
    "print(res1)\n",
    "res2 = s.reverse_text(res1)\n",
    "print(res2)\n",
    "res3 = s.reverse_words(text)\n",
    "print(res3)"
   ]
  },
  {
   "cell_type": "code",
   "execution_count": null,
   "metadata": {},
   "outputs": [],
   "source": [
    "# 再次练习，最后还是有几处小细节没有处理好，需要继续巩固"
   ]
  },
  {
   "cell_type": "code",
   "execution_count": null,
   "metadata": {},
   "outputs": [],
   "source": []
  },
  {
   "cell_type": "code",
   "execution_count": 177,
   "metadata": {},
   "outputs": [
    {
     "name": "stdout",
     "output_type": "stream",
     "text": [
      "fgabcde\n"
     ]
    }
   ],
   "source": [
    "# 尝试 右旋字符串\n",
    "\n",
    "def change_pos(text: str, k: int) -> str:\n",
    "    # 初步思路, 将前若干元素列表转移 空间复杂度O(n)\n",
    "    text_list = list(text)\n",
    "    tmp = text_list[0:len(text)-k]\n",
    "    text_list[0:k] = text_list[len(text)-k:]\n",
    "    text_list[k:] = tmp\n",
    "    return \"\".join(text_list)\n",
    "\n",
    "text = \"abcdefg\"\n",
    "k = 2\n",
    "res = change_pos(text, k)\n",
    "print(res)"
   ]
  },
  {
   "cell_type": "code",
   "execution_count": null,
   "metadata": {},
   "outputs": [],
   "source": []
  }
 ],
 "metadata": {
  "kernelspec": {
   "display_name": ".venv",
   "language": "python",
   "name": "python3"
  },
  "language_info": {
   "codemirror_mode": {
    "name": "ipython",
    "version": 3
   },
   "file_extension": ".py",
   "mimetype": "text/x-python",
   "name": "python",
   "nbconvert_exporter": "python",
   "pygments_lexer": "ipython3",
   "version": "3.10.14"
  }
 },
 "nbformat": 4,
 "nbformat_minor": 2
}
