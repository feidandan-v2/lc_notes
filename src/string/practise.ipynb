{
 "cells": [
  {
   "cell_type": "code",
   "execution_count": null,
   "metadata": {},
   "outputs": [],
   "source": [
    "# 344. 反转字符串\n",
    "\n",
    "# 示例 1：\n",
    "# 输入：[\"h\",\"e\",\"l\",\"l\",\"o\"]\n",
    "# 输出：[\"o\",\"l\",\"l\",\"e\",\"h\"]\n",
    "\n",
    "# 示例 2：\n",
    "# 输入：[\"H\",\"a\",\"n\",\"n\",\"a\",\"h\"]\n",
    "# 输出：[\"h\",\"a\",\"n\",\"n\",\"a\",\"H\"]\n",
    "\n"
   ]
  },
  {
   "cell_type": "code",
   "execution_count": 7,
   "metadata": {},
   "outputs": [
    {
     "name": "stdout",
     "output_type": "stream",
     "text": [
      "0\n",
      "1\n",
      "2\n"
     ]
    },
    {
     "data": {
      "text/plain": [
       "'cba'"
      ]
     },
     "execution_count": 7,
     "metadata": {},
     "output_type": "execute_result"
    }
   ],
   "source": [
    "string = 'abc'\n",
    "string_list = list(string)\n",
    "# 额外空间\n",
    "new_list = [0 for _ in range(0,len(string))]\n",
    "for i in range(0, len(string)):\n",
    "    print(i)\n",
    "    new_list[len(string)-i-1] = string_list[i]\n",
    "new_list\n",
    "reversed_string = ''.join(new_list)\n",
    "reversed_string\n",
    "\n",
    "# TO(n), SO(n)"
   ]
  },
  {
   "cell_type": "code",
   "execution_count": 10,
   "metadata": {},
   "outputs": [
    {
     "data": {
      "text/plain": [
       "'cba'"
      ]
     },
     "execution_count": 10,
     "metadata": {},
     "output_type": "execute_result"
    }
   ],
   "source": [
    "# TO(n), SO(1)\n",
    "string_list = list(string)\n",
    "left_idx, right_idx = 0, len(string)-1\n",
    "while left_idx < right_idx:\n",
    "    tmp = string_list[left_idx]\n",
    "    string_list[left_idx] = string_list[right_idx]\n",
    "    string_list[right_idx] = tmp\n",
    "    left_idx += 1\n",
    "    right_idx -= 1\n",
    "\n",
    "string_list \n",
    "reversed_string = ''.join(string_list)\n",
    "reversed_string"
   ]
  },
  {
   "cell_type": "code",
   "execution_count": 13,
   "metadata": {},
   "outputs": [
    {
     "data": {
      "text/plain": [
       "'gfedcba'"
      ]
     },
     "execution_count": 13,
     "metadata": {},
     "output_type": "execute_result"
    }
   ],
   "source": [
    "def str_reverse(text: str) -> str:\n",
    "    string_list = list(text)\n",
    "    left, right = 0, len(text)-1\n",
    "    while left < right:\n",
    "        tmp = string_list[left]\n",
    "        string_list[left] = string_list[right]\n",
    "        string_list[right] = tmp\n",
    "        left += 1\n",
    "        right -= 1\n",
    "    \n",
    "    return ''.join(string_list)\n",
    "\n",
    "\n",
    "str_reverse(text='abcdefg')\n"
   ]
  },
  {
   "cell_type": "code",
   "execution_count": 52,
   "metadata": {},
   "outputs": [
    {
     "name": "stdout",
     "output_type": "stream",
     "text": [
      "8\n",
      "['a', 'b', 'c', 'd', 'e', 'f', 'g', 'h']\n",
      "range: 0 6\n",
      "reversed: 0 3\n",
      "rest: 3 6\n",
      "==========\n",
      "['a', 'b', 'c']\n",
      "range: 6 12\n",
      "reversed: 6 9\n",
      "rest: 9 12\n",
      "==========\n",
      "['g', 'h']\n",
      "cbadefhg\n"
     ]
    }
   ],
   "source": [
    "# text='abcdefghijklmn'\n",
    "text = 'abcdefgh'\n",
    "k=3\n",
    "print(len(text))\n",
    "\n",
    "def str_reverse1(text: list) -> str:\n",
    "    left, right = 0, len(text)-1\n",
    "    while left < right:\n",
    "        tmp = text[left]\n",
    "        text[left] = text[right]\n",
    "        text[right] = tmp\n",
    "        left += 1\n",
    "        right -= 1\n",
    "    \n",
    "    return text\n",
    "\n",
    "text_list = list(text)\n",
    "print(text_list)\n",
    "for i in range(0, len(text), 2*k):\n",
    "    print('range:', i, i+2*k)\n",
    "    print('reversed:', i, i+k)\n",
    "    print('rest:', i+k, i+2*k)\n",
    "    print('='*10)\n",
    "    print(text_list[i:i+k])\n",
    "    # text_list[i:i+k] = str_reverse1(text_list[i:i+k])\n",
    "    \n",
    "    # 以上写法很简洁，充分利用了以下特性：字符串末尾如果超过最大长度，则会返回至字符串最后一个值，这个特性可以避免一些边界条件的处理\n",
    "\n",
    "    # 如果正常写\n",
    "    if len(text) - i < k:\n",
    "        text_list[i:] = str_reverse1(text_list[i:])\n",
    "    elif len(text) - i >= k and len(text) - i < 2*k:\n",
    "        text_list[i:i+k] = str_reverse1(text_list[i:i+k])\n",
    "    else:\n",
    "        text_list[i:i+k] = str_reverse1(text_list[i:i+k])\n",
    "\n",
    "    \n",
    "print(''.join(text_list))\n",
    "\n",
    "    \n",
    "    \n"
   ]
  },
  {
   "cell_type": "code",
   "execution_count": 35,
   "metadata": {},
   "outputs": [
    {
     "data": {
      "text/plain": [
       "'cbadefihgjklnm'"
      ]
     },
     "execution_count": 35,
     "metadata": {},
     "output_type": "execute_result"
    }
   ],
   "source": [
    "# ref: https://www.programmercarl.com/0541.%E5%8F%8D%E8%BD%AC%E5%AD%97%E7%AC%A6%E4%B8%B2II.html#%E6%80%9D%E8%B7%AF \n",
    "\n",
    "class Solution:\n",
    "    def reverseStr(self, s: str, k: int) -> str:\n",
    "        \"\"\"\n",
    "        1. 使用range(start, end, step)来确定需要调换的初始位置\n",
    "        2. 对于字符串s = 'abc'，如果使用s[0:999] ===> 'abc'。字符串末尾如果超过最大长度，则会返回至字符串最后一个值，这个特性可以避免一些边界条件的处理。\n",
    "        3. 用切片整体替换，而不是一个个替换.\n",
    "        \"\"\"\n",
    "        def reverse_substring(text):\n",
    "            left, right = 0, len(text) - 1\n",
    "            while left < right:\n",
    "                text[left], text[right] = text[right], text[left]\n",
    "                left += 1\n",
    "                right -= 1\n",
    "            return text\n",
    "        \n",
    "        res = list(s)\n",
    "\n",
    "        for cur in range(0, len(s), 2 * k):\n",
    "            res[cur: cur + k] = reverse_substring(res[cur: cur + k])\n",
    "        \n",
    "        return ''.join(res)\n",
    "    \n",
    "s = Solution()\n",
    "s.reverseStr(text,k)"
   ]
  },
  {
   "cell_type": "code",
   "execution_count": null,
   "metadata": {},
   "outputs": [],
   "source": []
  }
 ],
 "metadata": {
  "kernelspec": {
   "display_name": ".venv",
   "language": "python",
   "name": "python3"
  },
  "language_info": {
   "codemirror_mode": {
    "name": "ipython",
    "version": 3
   },
   "file_extension": ".py",
   "mimetype": "text/x-python",
   "name": "python",
   "nbconvert_exporter": "python",
   "pygments_lexer": "ipython3",
   "version": "3.10.14"
  }
 },
 "nbformat": 4,
 "nbformat_minor": 2
}
