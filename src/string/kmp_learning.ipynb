{
 "cells": [
  {
   "cell_type": "markdown",
   "metadata": {},
   "source": [
    "- next数组就是一个前缀表（prefix table）\n",
    "- 前缀表的作用\n",
    "  - 前缀表是用来回退的，记录了模式串与主串不匹配时，模式串应该从哪里开始重新匹配\n",
    "  - 基于不匹配的位置， 要看它的前一个字符的前缀表的数值是多少\n",
    "\n",
    "ref: https://blog.csdn.net/gmynebula/article/details/125239503 "
   ]
  },
  {
   "cell_type": "code",
   "execution_count": null,
   "metadata": {},
   "outputs": [],
   "source": [
    "# 计算前缀表（获得next数组）\n",
    "\n",
    "s = \"kkskkyds\"\n",
    "# 1 创建前缀表，长度和模式串s相同，初始值为0\n",
    "prefix = [0]*len(s)\n",
    "# 2 查找最长公共前后缀（傻找就完了）\n",
    "# 从最长的前后缀开始找，依次找到只有一个字符\n",
    "for i in range(1, len(s)):   # i = 1 to n-1\n",
    "    for j in range(i, 0, -1):\n",
    "        str1 = s[0:j]   # 前缀\n",
    "        str2 = s[i-j+1:i+1]  # 后缀\n",
    "        if str1 == str2:\n",
    "            prefix[i] = j\n",
    "            break              # 跳出j循环\n",
    "\n",
    "\n",
    "\n",
    "# To be contined..."
   ]
  },
  {
   "cell_type": "code",
   "execution_count": 4,
   "metadata": {},
   "outputs": [
    {
     "name": "stdout",
     "output_type": "stream",
     "text": [
      "kks\n",
      "ksk\n"
     ]
    }
   ],
   "source": [
    "s = \"kkskkyds\"\n",
    "i = 3\n",
    "j = i\n",
    "str1 = s[0:j]\n",
    "print(str1)\n",
    "str2 = s[i-j+1:i+1]\n",
    "print(str2)"
   ]
  },
  {
   "cell_type": "code",
   "execution_count": 2,
   "metadata": {},
   "outputs": [
    {
     "name": "stdout",
     "output_type": "stream",
     "text": [
      "3\n"
     ]
    }
   ],
   "source": [
    "# 暴力解法\n",
    "\n",
    "def brute_search(text:str, pattern:str) -> int:\n",
    "    i, j = 0, 0\n",
    "    while i < len(text):\n",
    "        if text[i] == pattern[j]:\n",
    "            i += 1\n",
    "            j += 1\n",
    "            if j == len(pattern):\n",
    "                return i - j \n",
    "        else:\n",
    "            i = i - j + 1\n",
    "            j = 0\n",
    "    return -1\n",
    "\n",
    "\n",
    "text = 'abcbcglx'\n",
    "pattern = 'bcgl'\n",
    "\n",
    "text = 'aabaabaafa'\n",
    "pattern = 'aabaaf'\n",
    "\n",
    "res = brute_search(text, pattern)\n",
    "print(res)\n"
   ]
  },
  {
   "cell_type": "code",
   "execution_count": 15,
   "metadata": {},
   "outputs": [
    {
     "name": "stdout",
     "output_type": "stream",
     "text": [
      "0 0\n",
      "a b\n",
      "3 2\n",
      "b g\n",
      "2 0\n",
      "c b\n",
      "3\n"
     ]
    }
   ],
   "source": [
    "def baoli(s:str, p:str) -> int:\n",
    "    j = 0\n",
    "    for i in range(0, len(s)):   # 错误示例，原因：使用for循环，每次无论if什么条件，都会+1，如果是几次判断两者相等，i就会自动前进几位，下一次判断如果不相等，i不会回退！所以应该用while\n",
    "        print(s[i],p[j])\n",
    "        if s[i] == p[j]:\n",
    "            j += 1\n",
    "            if j == len(p)-1:\n",
    "                return i-j\n",
    "        else:\n",
    "            j = 0\n",
    "        print(i, j)\n",
    "    return -1\n",
    "\n",
    "\n",
    "def baoli_correction(s:str, p:str) -> int:\n",
    "    for i in range(0, len(s)):\n",
    "        j,k = i,0\n",
    "        while s[j] == p[k]:   # 这里需要用while，可以一直判断；如果用if，只判断一次\n",
    "            j += 1\n",
    "            k += 1\n",
    "            if k == len(p)-1:\n",
    "                return i\n",
    "        print(j, k)\n",
    "        print(s[j], p[k])\n",
    "    return -1\n",
    "\n",
    "        \n",
    "text = 'abcbcglx'\n",
    "pattern = 'bcgl'\n",
    "\n",
    "res = baoli_correction(text, pattern)\n",
    "print(res)\n",
    "\n",
    "\n",
    "# 至此，找到了暴力的两种解法：brute_search 和 baoli_correction, 体会while和for循环的区别"
   ]
  },
  {
   "cell_type": "markdown",
   "metadata": {},
   "source": [
    "通过暴力算法的两种实现，重新梳理KMP算法：\n",
    "暴力算法：模式串每次不匹配需要回退到0，主串每次不匹配需要回退到上一轮开始匹配的下一位，kmp主要是充分利用不匹配字符前匹配子串的信息，做到主串不回退，同时尽可能减少模式串的回退\n",
    "\n",
    "举两个极端例子\n",
    "\n",
    "例1:\n",
    "aaaaaaab\n",
    "aaaaaab\n",
    "匹配到最后，a和b不匹配，此时，前面6个a全部匹配，已经匹配的6和a的最大公共子串是5个a，只要移一位，然后主串指针不动，a和模式串第6个a开始比较\n",
    "\n",
    "例2:\n",
    "abcdefabcdefac\n",
    "abcdefac\n",
    "匹配到最后，b和c不匹配，此时，前面abcdefa全部匹配，最大公共子串是a，模式串移动6位，到第一个a和主串第二个a匹配（充分利用已经匹配的信息），然后，正式的比较是主串的b和模式串的b，然后依次向后\n",
    "\n",
    "**假设next数组告诉我们：主串指针元素需要和模式串第几个开始下一轮匹配**\n",
    "\n",
    "j表示模式串不匹配的位置，next[j]表示下一次模式串与主串指针元素匹配的位置\n",
    "例1中，j = 6, next[j] = 5\n",
    "例2中，j = 7, next[j] = 1"
   ]
  },
  {
   "cell_type": "code",
   "execution_count": null,
   "metadata": {},
   "outputs": [],
   "source": [
    "def str_str(s: str, p: str, next: list) -> int:\n",
    "    i, j = 0, 0\n",
    "    while i < len(s):\n",
    "        if s[i] == s[j]:\n",
    "            i += 1\n",
    "            j += 1\n",
    "            if j == len(p) - 1:\n",
    "                return i - j\n",
    "        else:\n",
    "            if j == 0:\n",
    "                i += 1\n",
    "            else:\n",
    "                j = next[j]\n",
    "    return -1\n"
   ]
  },
  {
   "cell_type": "code",
   "execution_count": null,
   "metadata": {},
   "outputs": [],
   "source": []
  }
 ],
 "metadata": {
  "kernelspec": {
   "display_name": "lc",
   "language": "python",
   "name": "python3"
  },
  "language_info": {
   "codemirror_mode": {
    "name": "ipython",
    "version": 3
   },
   "file_extension": ".py",
   "mimetype": "text/x-python",
   "name": "python",
   "nbconvert_exporter": "python",
   "pygments_lexer": "ipython3",
   "version": "3.10.0"
  }
 },
 "nbformat": 4,
 "nbformat_minor": 2
}
