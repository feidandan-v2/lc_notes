{
 "cells": [
  {
   "cell_type": "markdown",
   "metadata": {},
   "source": [
    "- next数组就是一个前缀表（prefix table）\n",
    "- 前缀表的作用\n",
    "  - 前缀表是用来回退的，记录了模式串与主串不匹配时，模式串应该从哪里开始重新匹配\n",
    "  - 基于不匹配的位置， 要看它的前一个字符的前缀表的数值是多少\n",
    "\n",
    "ref: https://blog.csdn.net/gmynebula/article/details/125239503 "
   ]
  },
  {
   "cell_type": "code",
   "execution_count": null,
   "metadata": {},
   "outputs": [],
   "source": [
    "# 计算前缀表（获得next数组）\n",
    "\n",
    "s = \"kkskkyds\"\n",
    "# 1 创建前缀表，长度和模式串s相同，初始值为0\n",
    "prefix = [0]*len(s)\n",
    "# 2 查找最长公共前后缀（傻找就完了）\n",
    "# 从最长的前后缀开始找，依次找到只有一个字符\n",
    "for i in range(1, len(s)):   # i = 1 to n-1\n",
    "    for j in range(i, 0, -1):\n",
    "        str1 = s[0:j]   # 前缀\n",
    "        str2 = s[i-j+1:i+1]  # 后缀\n",
    "        if str1 == str2:\n",
    "            prefix[i] = j\n",
    "            break              # 跳出j循环\n",
    "\n",
    "\n",
    "\n",
    "# To be contined..."
   ]
  },
  {
   "cell_type": "code",
   "execution_count": 4,
   "metadata": {},
   "outputs": [
    {
     "name": "stdout",
     "output_type": "stream",
     "text": [
      "kks\n",
      "ksk\n"
     ]
    }
   ],
   "source": [
    "s = \"kkskkyds\"\n",
    "i = 3\n",
    "j = i\n",
    "str1 = s[0:j]\n",
    "print(str1)\n",
    "str2 = s[i-j+1:i+1]\n",
    "print(str2)"
   ]
  },
  {
   "cell_type": "markdown",
   "metadata": {},
   "source": []
  }
 ],
 "metadata": {
  "kernelspec": {
   "display_name": "lc",
   "language": "python",
   "name": "python3"
  },
  "language_info": {
   "codemirror_mode": {
    "name": "ipython",
    "version": 3
   },
   "file_extension": ".py",
   "mimetype": "text/x-python",
   "name": "python",
   "nbconvert_exporter": "python",
   "pygments_lexer": "ipython3",
   "version": "3.10.0"
  }
 },
 "nbformat": 4,
 "nbformat_minor": 2
}
