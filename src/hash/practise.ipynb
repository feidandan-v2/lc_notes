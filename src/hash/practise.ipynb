{
 "cells": [
  {
   "cell_type": "code",
   "execution_count": null,
   "metadata": {},
   "outputs": [],
   "source": [
    "\"\"\"\n",
    "1.两数之和\n",
    "\n",
    "示例:\n",
    "给定 nums = [2, 7, 11, 15], target = 9\n",
    "因为 nums[0] + nums[1] = 2 + 7 = 9\n",
    "所以返回 [0, 1]\n",
    "\"\"\"\n"
   ]
  },
  {
   "cell_type": "code",
   "execution_count": 1,
   "metadata": {},
   "outputs": [
    {
     "name": "stdout",
     "output_type": "stream",
     "text": [
      "[[0, 1], [2, 3]]\n"
     ]
    }
   ],
   "source": [
    "# 返回所有位置的list\n",
    "\n",
    "def func(nums: list[int], target: int) -> list[list]:\n",
    "    # 因为需要返回位置，选择dict, 用于存放遍历过的元素\n",
    "    hash_dict = dict()\n",
    "    res_list = list()\n",
    "    for i in range(0, len(nums)):\n",
    "        desired_num = target - nums[i]\n",
    "        if desired_num not in hash_dict:\n",
    "            hash_dict[nums[i]] = i\n",
    "        else:\n",
    "            res_list.append([hash_dict[desired_num], i])\n",
    "    \n",
    "    return res_list\n",
    "\n",
    "nums = [2,7,3,6]\n",
    "target = 9\n",
    "res = func(nums=nums, target=target)\n",
    "print(res)"
   ]
  },
  {
   "cell_type": "code",
   "execution_count": null,
   "metadata": {},
   "outputs": [],
   "source": [
    "\"\"\"\n",
    "454.四数相加II\n",
    "A = [ 1, 2]\n",
    "B = [-2,-1]\n",
    "C = [-1, 2]\n",
    "D = [ 0, 2]\n",
    "输出:\n",
    "2\n",
    "\"\"\""
   ]
  },
  {
   "cell_type": "code",
   "execution_count": 19,
   "metadata": {},
   "outputs": [
    {
     "name": "stdout",
     "output_type": "stream",
     "text": [
      "2\n"
     ]
    }
   ],
   "source": [
    "# \n",
    "\n",
    "def func(nums1: list, nums2: list, nums3: list, nums4: list, k: int) -> int:\n",
    "    # thoughts: 构造hash表存a+b，然后查找k-(c+d)\n",
    "    # create a dictionary to collect a+b\n",
    "    dict_hash = {}\n",
    "    res = 0\n",
    "    for i in range(0, len(nums1)):\n",
    "        for j in range(0, len(nums2)):\n",
    "            # if nums1[i]+nums2[j] not in dict_hash:\n",
    "            #     dict_hash[nums1[i]+nums2[j]] = 1\n",
    "            # else:\n",
    "            #     dict_hash[nums1[i]+nums2[j]] += 1\n",
    "\n",
    "            # 或者使用.get()\n",
    "            dict_hash[nums1[i]+nums2[j]] = dict_hash.get(nums1[i]+nums2[j], 0) + 1\n",
    "    \n",
    "    for i in range(0, len(nums3)):\n",
    "        for j in range(0, len(nums4)):\n",
    "            if k - (nums3[i] + nums4[j]) in dict_hash:\n",
    "                res +=  dict_hash[k-(nums3[i]+nums4[j])]\n",
    "    \n",
    "    return res\n",
    "\n",
    "A = [ 1, 2]\n",
    "B = [-2,-1]\n",
    "C = [-1, 2]\n",
    "D = [ 0, 2]\n",
    "\n",
    "res = func(A, B, C, D, 0)\n",
    "print(res)"
   ]
  },
  {
   "cell_type": "code",
   "execution_count": 20,
   "metadata": {},
   "outputs": [
    {
     "name": "stdout",
     "output_type": "stream",
     "text": [
      "{5: 5}\n"
     ]
    }
   ],
   "source": [
    "tmp = {}\n",
    "for i in range(0,5):\n",
    "    tmp[3+2] = tmp.get(3+2, 0) + 1\n",
    "\n",
    "print(tmp)"
   ]
  },
  {
   "cell_type": "code",
   "execution_count": 9,
   "metadata": {},
   "outputs": [
    {
     "data": {
      "text/plain": [
       "{3: 2}"
      ]
     },
     "execution_count": 9,
     "metadata": {},
     "output_type": "execute_result"
    }
   ],
   "source": [
    "tmp[3+2] += 1\n",
    "tmp"
   ]
  },
  {
   "cell_type": "code",
   "execution_count": null,
   "metadata": {},
   "outputs": [],
   "source": []
  },
  {
   "cell_type": "code",
   "execution_count": null,
   "metadata": {},
   "outputs": [],
   "source": [
    "\"\"\"\n",
    "202.快乐数\n",
    "「快乐数」定义为：对于一个正整数，每一次将该数替换为它每个位置上的数字的平方和，然后重复这个过程直到这个数变为 1，也可能是 无限循环 但始终变不到 1。如果 可以变为  1，那么这个数就是快乐数。\n",
    "如果 n 是快乐数就返回 True ；不是，则返回 False 。\n",
    "\n",
    "示例：\n",
    "输入：19\n",
    "输出：true\n",
    "解释：\n",
    "1^2 + 9^2 = 82\n",
    "8^2 + 2^2 = 68\n",
    "6^2 + 8^2 = 100\n",
    "1^2 + 0^2 + 0^2 = 1\n",
    "\"\"\""
   ]
  },
  {
   "cell_type": "code",
   "execution_count": 41,
   "metadata": {},
   "outputs": [
    {
     "name": "stdout",
     "output_type": "stream",
     "text": [
      "100\n",
      "True\n"
     ]
    }
   ],
   "source": [
    "def happy_num(num: int) -> bool:\n",
    "    hash_set = set()\n",
    "    while True:\n",
    "        num = get_square_sum(num)\n",
    "        if num in hash_set:\n",
    "            return False\n",
    "        elif num == 1:\n",
    "            return True\n",
    "        else:\n",
    "            hash_set.add(num)\n",
    "\n",
    "\n",
    "def get_square_sum(num: int) -> int:\n",
    "    square_sum = 0\n",
    "    while num // 10 != 0:\n",
    "        square_sum += (num % 10) * (num % 10)\n",
    "        num = num // 10\n",
    "    square_sum += num * num\n",
    "\n",
    "    return square_sum\n",
    "\n",
    "num = 68\n",
    "\n",
    "res = get_square_sum(num=num)\n",
    "print(res)\n",
    "\n",
    "res = happy_num(num=num)\n",
    "print(res)"
   ]
  },
  {
   "cell_type": "code",
   "execution_count": null,
   "metadata": {},
   "outputs": [],
   "source": []
  },
  {
   "cell_type": "code",
   "execution_count": null,
   "metadata": {},
   "outputs": [],
   "source": [
    "\"\"\"\n",
    "给你一个包含 n 个整数的数组 nums，判断 nums 中是否存在三个元素 a，b，c ，使得 a + b + c = 0 ？请你找出所有满足条件且不重复的三元组。\n",
    "\n",
    "注意： 答案中不可以包含重复的三元组。\n",
    "\n",
    "示例：\n",
    "\n",
    "给定数组 nums = [-1, 0, 1, 2, -1, -4]，\n",
    "\n",
    "满足要求的三元组集合为： [ [-1, 0, 1], [-1, -1, 2] ]\n",
    "\n",
    "#15\n",
    "\"\"\""
   ]
  },
  {
   "cell_type": "code",
   "execution_count": 43,
   "metadata": {},
   "outputs": [
    {
     "name": "stdout",
     "output_type": "stream",
     "text": [
      "[]\n"
     ]
    }
   ],
   "source": [
    "def triple_sum_wrong(nums: list[int], k: int) -> list[list]:\n",
    "    nums = sorted(nums)\n",
    "    res_list = list()\n",
    "    for i in range(0, len(nums)-1):\n",
    "        left = i+1\n",
    "        right = len(nums)-1\n",
    "        if left + right == k - i and left != i:\n",
    "            res_list.append([i, left, right])\n",
    "        elif left+ right > k - i:\n",
    "            right -=1\n",
    "        else:\n",
    "            left += 1\n",
    "            \n",
    "    \n",
    "    return res_list\n",
    "\n",
    "nums = [-1, 0, 1, 2, -1, -4]\n",
    "res = triple_sum_wrong(nums=nums, k=0)\n",
    "print(res)\n",
    "\n",
    "\n",
    "\n",
    "# 问题1: 如果第一个元素已经大于0，不需要进一步检查\n",
    "# 问题2: 边界条件未考虑\n",
    "# 问题3: 用双指针解决，不需要hash结构\n",
    "# 问题4: 双指针解决时候left、right指针移动条件判断错误,关键如何对a，b，c去重"
   ]
  },
  {
   "cell_type": "code",
   "execution_count": 55,
   "metadata": {},
   "outputs": [
    {
     "name": "stdout",
     "output_type": "stream",
     "text": [
      "[[-1, -1, 2], [-1, 0, 1]]\n"
     ]
    }
   ],
   "source": [
    "def triple_sum(nums: list[int], k: int) -> list[list[int]]:\n",
    "    # 在排序基础上一层循环，后续双指针移动，注意去重的处理\n",
    "\n",
    "    nums = sorted(nums)   # 缺少排序\n",
    "    res_list = list()\n",
    "\n",
    "    for i in range(0, len(nums)):\n",
    "        if nums[i] > k:\n",
    "            return res_list\n",
    "        \n",
    "        if i > 0 and nums[i] == nums[i-1]:\n",
    "            continue\n",
    "\n",
    "        left, right = i+1, len(nums)-1\n",
    "        while left < right:\n",
    "            if nums[i] + nums[left] + nums[right] > k:\n",
    "                right -= 1\n",
    "            elif nums[i] + nums[left] + nums[right] < k:\n",
    "                left += 1\n",
    "            else:\n",
    "                res_list.append([nums[i], nums[left], nums[right]])       # 返回的是元素，不是下标\n",
    "                # if (i > 0) and (nums[i+1] == nums[i]):  # 对于第一个遍历元素的去重判断位置不对，逻辑也不对\n",
    "                #     continue\n",
    "                # if nums[right-1] == nums[right]:  # 对于b和c的循环逻辑不对，用while而不是for\n",
    "                #     right -= 1\n",
    "                # if nums[left+1] == nums[left]:\n",
    "                #     left += 1 \n",
    "                # 跳过相同元素避免重复\n",
    "                while left < right and nums[right] == nums[right-1]:\n",
    "                    right -= 1\n",
    "                while left < right and nums[left] == nums[left+1]:\n",
    "                    left +=1\n",
    "                # 正常移动\n",
    "                right -= 1    # 缺少正常移动\n",
    "                left += 1     # 缺少正常移动\n",
    "\n",
    "                \n",
    "\n",
    "    return res_list\n",
    "\n",
    "res = triple_sum(nums=[-1, 0, 1, 2, -1, -4], k=0)\n",
    "print(res)\n",
    "\n",
    "\n",
    "# 问题1: 缺少排序\n",
    "# 问题2: 对于a的去重位置不对，需要放在for循环中\n",
    "# 问题3: 对于a的去重判断逻辑也对，nums[i] == nums[i-1]\n",
    "# 问题4: 返回的是元素，不是下标\n",
    "# 问题5: 对于b和c的循环逻辑不对，用while而不是for\n",
    "# 问题6: 找到满足条件的元素后，right和left没有移动"
   ]
  },
  {
   "cell_type": "code",
   "execution_count": 47,
   "metadata": {},
   "outputs": [
    {
     "name": "stdout",
     "output_type": "stream",
     "text": [
      "找到奇数:1\n",
      "找到奇数:3\n",
      "找到奇数:5\n",
      "找到奇数:7\n",
      "找到奇数:9\n"
     ]
    }
   ],
   "source": [
    "for i in range(0, 10):\n",
    "    if i % 2 == 0:\n",
    "        continue\n",
    "    print(f\"找到奇数:{i}\")"
   ]
  },
  {
   "cell_type": "code",
   "execution_count": 53,
   "metadata": {},
   "outputs": [
    {
     "data": {
      "text/plain": [
       "[-4, -1, -1, 0, 1, 2]"
      ]
     },
     "execution_count": 53,
     "metadata": {},
     "output_type": "execute_result"
    }
   ],
   "source": [
    "nums = sorted(nums) \n",
    "nums"
   ]
  },
  {
   "cell_type": "code",
   "execution_count": 54,
   "metadata": {},
   "outputs": [
    {
     "data": {
      "text/plain": [
       "[[-1, -1, 2], [-1, 0, 1]]"
      ]
     },
     "execution_count": 54,
     "metadata": {},
     "output_type": "execute_result"
    }
   ],
   "source": [
    "from typing import List\n",
    "\n",
    "class Solution:\n",
    "    def threeSum(self, nums: List[int]) -> List[List[int]]:\n",
    "        result = []\n",
    "        nums.sort()\n",
    "        \n",
    "        for i in range(len(nums)):\n",
    "            # 如果第一个元素已经大于0，不需要进一步检查\n",
    "            if nums[i] > 0:\n",
    "                return result\n",
    "            \n",
    "            # 跳过相同的元素以避免重复\n",
    "            if i > 0 and nums[i] == nums[i - 1]:\n",
    "                continue\n",
    "                \n",
    "            left = i + 1\n",
    "            right = len(nums) - 1\n",
    "            \n",
    "            while right > left:\n",
    "                sum_ = nums[i] + nums[left] + nums[right]\n",
    "                \n",
    "                if sum_ < 0:\n",
    "                    left += 1\n",
    "                elif sum_ > 0:\n",
    "                    right -= 1\n",
    "                else:\n",
    "                    result.append([nums[i], nums[left], nums[right]])\n",
    "                    \n",
    "                    # 跳过相同的元素以避免重复\n",
    "                    while right > left and nums[right] == nums[right - 1]:\n",
    "                        right -= 1\n",
    "                    while right > left and nums[left] == nums[left + 1]:\n",
    "                        left += 1\n",
    "                        \n",
    "                    right -= 1\n",
    "                    left += 1\n",
    "                    \n",
    "        return result\n",
    "    \n",
    "S = Solution()\n",
    "S.threeSum(nums)"
   ]
  },
  {
   "cell_type": "code",
   "execution_count": null,
   "metadata": {},
   "outputs": [],
   "source": [
    "# 18.四数之和（不重复）\n",
    "# 与3数之和思路相似\n"
   ]
  },
  {
   "cell_type": "code",
   "execution_count": 56,
   "metadata": {},
   "outputs": [
    {
     "name": "stdout",
     "output_type": "stream",
     "text": [
      "[[-2, -1, 1, 2], [-2, 0, 0, 2], [-1, 0, 0, 1]]\n"
     ]
    }
   ],
   "source": [
    "def four_nums_sum(nums: list[int], target: int) -> list[list[int]]:\n",
    "    \"\"\"\n",
    "    思路：\n",
    "    首先排序，接着两层循环，在两层循环中分别采用剪枝和去重\n",
    "\n",
    "    \"\"\"\n",
    "    # 排序\n",
    "    nums = sorted(nums)\n",
    "    # 创建结果收集数组\n",
    "    res_list = []\n",
    "\n",
    "    # 第一层循环\n",
    "    for i in range(0, len(nums)-2):\n",
    "        # 剪枝\n",
    "        if target > 0 and nums[i] > target:\n",
    "            return res_list\n",
    "        # 去重\n",
    "        if i > 0 and nums[i] == nums[i-1]:\n",
    "            continue\n",
    "\n",
    "        # 第二层循环\n",
    "        for j in range(i+1, len(nums)-1):\n",
    "            # 剪枝\n",
    "            if target > 0 and nums[i] + nums[j] > target:\n",
    "                return res_list\n",
    "            # 去重\n",
    "            if j > i+1 and nums[j] == nums[j-1]:\n",
    "                continue\n",
    "\n",
    "            # 双指针\n",
    "            left = j+1\n",
    "            right = len(nums)-1\n",
    "            # 移动指针\n",
    "            while left < right:\n",
    "                temp_sum = nums[i] + nums[j] + nums[left] + nums[right]\n",
    "                if temp_sum < target:\n",
    "                    left += 1\n",
    "                elif temp_sum > target:\n",
    "                    right -= 1\n",
    "                else:\n",
    "                    res_list.append([nums[i], nums[j], nums[left], nums[right]])\n",
    "                    # 去重条件\n",
    "                    while left < right and left == left+1:\n",
    "                        left += 1\n",
    "                    while left < right and right == right-1:\n",
    "                        right -= 1\n",
    "                    left += 1\n",
    "                    right -= 1\n",
    "\n",
    "    return res_list\n",
    "\n",
    "nums = [1, 0, -1, 0, -2, 2]\n",
    "target = 0\n",
    "\n",
    "res = four_nums_sum(nums, target)\n",
    "print(res)"
   ]
  },
  {
   "cell_type": "code",
   "execution_count": null,
   "metadata": {},
   "outputs": [],
   "source": [
    "# 以上第一次独立写，正确！"
   ]
  }
 ],
 "metadata": {
  "kernelspec": {
   "display_name": ".venv",
   "language": "python",
   "name": "python3"
  },
  "language_info": {
   "codemirror_mode": {
    "name": "ipython",
    "version": 3
   },
   "file_extension": ".py",
   "mimetype": "text/x-python",
   "name": "python",
   "nbconvert_exporter": "python",
   "pygments_lexer": "ipython3",
   "version": "3.10.14"
  }
 },
 "nbformat": 4,
 "nbformat_minor": 2
}
