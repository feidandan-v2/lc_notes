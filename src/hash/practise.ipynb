{
 "cells": [
  {
   "cell_type": "code",
   "execution_count": null,
   "metadata": {},
   "outputs": [],
   "source": [
    "\"\"\"\n",
    "1.两数之和\n",
    "\n",
    "示例:\n",
    "给定 nums = [2, 7, 11, 15], target = 9\n",
    "因为 nums[0] + nums[1] = 2 + 7 = 9\n",
    "所以返回 [0, 1]\n",
    "\"\"\"\n"
   ]
  },
  {
   "cell_type": "code",
   "execution_count": 1,
   "metadata": {},
   "outputs": [
    {
     "name": "stdout",
     "output_type": "stream",
     "text": [
      "[[0, 1], [2, 3]]\n"
     ]
    }
   ],
   "source": [
    "# 返回所有位置的list\n",
    "\n",
    "def func(nums: list[int], target: int) -> list[list]:\n",
    "    # 因为需要返回位置，选择dict, 用于存放遍历过的元素\n",
    "    hash_dict = dict()\n",
    "    res_list = list()\n",
    "    for i in range(0, len(nums)):\n",
    "        desired_num = target - nums[i]\n",
    "        if desired_num not in hash_dict:\n",
    "            hash_dict[nums[i]] = i\n",
    "        else:\n",
    "            res_list.append([hash_dict[desired_num], i])\n",
    "    \n",
    "    return res_list\n",
    "\n",
    "nums = [2,7,3,6]\n",
    "target = 9\n",
    "res = func(nums=nums, target=target)\n",
    "print(res)"
   ]
  },
  {
   "cell_type": "code",
   "execution_count": null,
   "metadata": {},
   "outputs": [],
   "source": [
    "\"\"\"\n",
    "454.四数相加II\n",
    "A = [ 1, 2]\n",
    "B = [-2,-1]\n",
    "C = [-1, 2]\n",
    "D = [ 0, 2]\n",
    "输出:\n",
    "2\n",
    "\"\"\""
   ]
  },
  {
   "cell_type": "code",
   "execution_count": 19,
   "metadata": {},
   "outputs": [
    {
     "name": "stdout",
     "output_type": "stream",
     "text": [
      "2\n"
     ]
    }
   ],
   "source": [
    "# \n",
    "\n",
    "def func(nums1: list, nums2: list, nums3: list, nums4: list, k: int) -> int:\n",
    "    # thoughts: 构造hash表存a+b，然后查找k-(c+d)\n",
    "    # create a dictionary to collect a+b\n",
    "    dict_hash = {}\n",
    "    res = 0\n",
    "    for i in range(0, len(nums1)):\n",
    "        for j in range(0, len(nums2)):\n",
    "            # if nums1[i]+nums2[j] not in dict_hash:\n",
    "            #     dict_hash[nums1[i]+nums2[j]] = 1\n",
    "            # else:\n",
    "            #     dict_hash[nums1[i]+nums2[j]] += 1\n",
    "\n",
    "            # 或者使用.get()\n",
    "            dict_hash[nums1[i]+nums2[j]] = dict_hash.get(nums1[i]+nums2[j], 0) + 1\n",
    "    \n",
    "    for i in range(0, len(nums3)):\n",
    "        for j in range(0, len(nums4)):\n",
    "            if k - (nums3[i] + nums4[j]) in dict_hash:\n",
    "                res +=  dict_hash[k-(nums3[i]+nums4[j])]\n",
    "    \n",
    "    return res\n",
    "\n",
    "A = [ 1, 2]\n",
    "B = [-2,-1]\n",
    "C = [-1, 2]\n",
    "D = [ 0, 2]\n",
    "\n",
    "res = func(A, B, C, D, 0)\n",
    "print(res)"
   ]
  },
  {
   "cell_type": "code",
   "execution_count": 20,
   "metadata": {},
   "outputs": [
    {
     "name": "stdout",
     "output_type": "stream",
     "text": [
      "{5: 5}\n"
     ]
    }
   ],
   "source": [
    "tmp = {}\n",
    "for i in range(0,5):\n",
    "    tmp[3+2] = tmp.get(3+2, 0) + 1\n",
    "\n",
    "print(tmp)"
   ]
  },
  {
   "cell_type": "code",
   "execution_count": 9,
   "metadata": {},
   "outputs": [
    {
     "data": {
      "text/plain": [
       "{3: 2}"
      ]
     },
     "execution_count": 9,
     "metadata": {},
     "output_type": "execute_result"
    }
   ],
   "source": [
    "tmp[3+2] += 1\n",
    "tmp"
   ]
  },
  {
   "cell_type": "code",
   "execution_count": null,
   "metadata": {},
   "outputs": [],
   "source": []
  },
  {
   "cell_type": "code",
   "execution_count": null,
   "metadata": {},
   "outputs": [],
   "source": [
    "\"\"\"\n",
    "202.快乐数\n",
    "「快乐数」定义为：对于一个正整数，每一次将该数替换为它每个位置上的数字的平方和，然后重复这个过程直到这个数变为 1，也可能是 无限循环 但始终变不到 1。如果 可以变为  1，那么这个数就是快乐数。\n",
    "如果 n 是快乐数就返回 True ；不是，则返回 False 。\n",
    "\n",
    "示例：\n",
    "输入：19\n",
    "输出：true\n",
    "解释：\n",
    "1^2 + 9^2 = 82\n",
    "8^2 + 2^2 = 68\n",
    "6^2 + 8^2 = 100\n",
    "1^2 + 0^2 + 0^2 = 1\n",
    "\"\"\""
   ]
  },
  {
   "cell_type": "code",
   "execution_count": 41,
   "metadata": {},
   "outputs": [
    {
     "name": "stdout",
     "output_type": "stream",
     "text": [
      "100\n",
      "True\n"
     ]
    }
   ],
   "source": [
    "def happy_num(num: int) -> bool:\n",
    "    hash_set = set()\n",
    "    while True:\n",
    "        num = get_square_sum(num)\n",
    "        if num in hash_set:\n",
    "            return False\n",
    "        elif num == 1:\n",
    "            return True\n",
    "        else:\n",
    "            hash_set.add(num)\n",
    "\n",
    "\n",
    "def get_square_sum(num: int) -> int:\n",
    "    square_sum = 0\n",
    "    while num // 10 != 0:\n",
    "        square_sum += (num % 10) * (num % 10)\n",
    "        num = num // 10\n",
    "    square_sum += num * num\n",
    "\n",
    "    return square_sum\n",
    "\n",
    "num = 68\n",
    "\n",
    "res = get_square_sum(num=num)\n",
    "print(res)\n",
    "\n",
    "res = happy_num(num=num)\n",
    "print(res)"
   ]
  },
  {
   "cell_type": "code",
   "execution_count": null,
   "metadata": {},
   "outputs": [],
   "source": []
  },
  {
   "cell_type": "code",
   "execution_count": null,
   "metadata": {},
   "outputs": [],
   "source": []
  }
 ],
 "metadata": {
  "kernelspec": {
   "display_name": ".venv",
   "language": "python",
   "name": "python3"
  },
  "language_info": {
   "codemirror_mode": {
    "name": "ipython",
    "version": 3
   },
   "file_extension": ".py",
   "mimetype": "text/x-python",
   "name": "python",
   "nbconvert_exporter": "python",
   "pygments_lexer": "ipython3",
   "version": "3.10.14"
  }
 },
 "nbformat": 4,
 "nbformat_minor": 2
}
